{
 "cells": [
  {
   "cell_type": "code",
   "execution_count": 1,
   "metadata": {},
   "outputs": [],
   "source": [
    "!pwd"
   ]
  },
  {
   "cell_type": "code",
   "execution_count": 12,
   "metadata": {},
   "outputs": [],
   "source": [
    "import os\n",
    "os.chdir('..')"
   ]
  },
  {
   "cell_type": "code",
   "execution_count": 13,
   "metadata": {},
   "outputs": [],
   "source": [
    "import json"
   ]
  },
  {
   "cell_type": "markdown",
   "metadata": {},
   "source": [
    "#### Resize a coco_dataset.json file"
   ]
  },
  {
   "cell_type": "code",
   "execution_count": 10,
   "metadata": {},
   "outputs": [],
   "source": [
    "for i in ['train']:\n",
    "    with open(f'./penducles/{i}.json', 'r') as fp:\n",
    "        data = json.load(fp)\n",
    "        for img in data['images']:\n",
    "            img['height'] = int(img['height']/10)\n",
    "            img['width'] = int(img['width']/10)\n",
    "        for anno in data['annotations']:\n",
    "            anno['segmentation'][0] = list(map(lambda x: x/10, anno['segmentation'][0]))\n",
    "            anno['bbox'] = list(map(lambda x: x/10, anno['bbox']))\n",
    "            anno['area'] /= 100\n",
    "    json.dump(data, open(f'./penducles/{i}_resized.json', \"w\"), indent=4)"
   ]
  },
  {
   "cell_type": "markdown",
   "metadata": {},
   "source": [
    "#### Resize a labelme.json file"
   ]
  },
  {
   "cell_type": "code",
   "execution_count": 12,
   "metadata": {},
   "outputs": [],
   "source": [
    "# with open('./datasets/train/DSC07579.json', 'r') as fp:\n",
    "#     data = json.load(fp)\n",
    "#     data['imageHeight'] = int(data['imageHeight']/10)\n",
    "#     data['imageWidth'] = int(data['imageWidth']/10)\n",
    "#     for i, shape in enumerate(data['shapes']):\n",
    "#         for j, point in enumerate(shape['points']):\n",
    "#             data['shapes'][i]['points'][j] = list(map(lambda x: x/10, point))\n",
    "# json.dump(data, open('./datasets/train/DSC07579_resized.json', \"w\"), indent=2)"
   ]
  },
  {
   "cell_type": "code",
   "execution_count": null,
   "metadata": {},
   "outputs": [],
   "source": []
  }
 ],
 "metadata": {
  "kernelspec": {
   "display_name": "Python 3.8.10 ('venv')",
   "language": "python",
   "name": "python3"
  },
  "language_info": {
   "codemirror_mode": {
    "name": "ipython",
    "version": 3
   },
   "file_extension": ".py",
   "mimetype": "text/x-python",
   "name": "python",
   "nbconvert_exporter": "python",
   "pygments_lexer": "ipython3",
   "version": "3.8.10"
  },
  "orig_nbformat": 4,
  "vscode": {
   "interpreter": {
    "hash": "29aa37f2d695ad020160e8cf38bc34093f1d7aa011c4c5dbd66ab36cefa49a49"
   }
  }
 },
 "nbformat": 4,
 "nbformat_minor": 2
}
