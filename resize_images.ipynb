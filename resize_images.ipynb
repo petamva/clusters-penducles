{
 "cells": [
  {
   "cell_type": "code",
   "execution_count": 1,
   "metadata": {},
   "outputs": [],
   "source": [
    "import os\n",
    "import cv2"
   ]
  },
  {
   "cell_type": "code",
   "execution_count": 2,
   "metadata": {},
   "outputs": [],
   "source": [
    "img_path = './penducles/train'\n",
    "resized_img_path = './penducles/train_resized'"
   ]
  },
  {
   "cell_type": "code",
   "execution_count": 3,
   "metadata": {},
   "outputs": [],
   "source": [
    "image_list = os.listdir(img_path)"
   ]
  },
  {
   "cell_type": "code",
   "execution_count": 4,
   "metadata": {},
   "outputs": [],
   "source": [
    "img_paths = [os.path.join(img_path, image) for image in image_list if image.endswith('.JPG')]\n",
    "resized_img_paths = [os.path.join(resized_img_path, image) for image in image_list if image.endswith('.JPG')]"
   ]
  },
  {
   "cell_type": "code",
   "execution_count": 5,
   "metadata": {},
   "outputs": [],
   "source": [
    "images = [cv2.imread(path) for path in img_paths]"
   ]
  },
  {
   "cell_type": "code",
   "execution_count": null,
   "metadata": {},
   "outputs": [],
   "source": [
    "# scale_percent = 75\n",
    "# width = int(5472 * scale_percent / 100)\n",
    "# height = int(3648 * scale_percent / 100)\n",
    "# dim = (width, height)"
   ]
  },
  {
   "cell_type": "code",
   "execution_count": 6,
   "metadata": {},
   "outputs": [],
   "source": [
    "resized_images = [cv2.resize(image.copy(), (int(image.shape[1] * 0.1), int(image.shape[0] * 0.1)), interpolation = cv2.INTER_AREA)\\\n",
    "     for image in images]\n",
    "# resized = cv2.resize(img.copy(), (int(img.shape[1] * 0.1), int(img.shape[0] * 0.1)), interpolation=cv2.INTER_AREA)"
   ]
  },
  {
   "cell_type": "code",
   "execution_count": 7,
   "metadata": {},
   "outputs": [],
   "source": [
    "targets = zip(resized_img_paths, resized_images)"
   ]
  },
  {
   "cell_type": "code",
   "execution_count": 8,
   "metadata": {},
   "outputs": [],
   "source": [
    "for target in targets:\n",
    "    cv2.imwrite(*target)"
   ]
  },
  {
   "cell_type": "code",
   "execution_count": null,
   "metadata": {},
   "outputs": [],
   "source": []
  }
 ],
 "metadata": {
  "kernelspec": {
   "display_name": "Python 3.8.10 ('venv')",
   "language": "python",
   "name": "python3"
  },
  "language_info": {
   "codemirror_mode": {
    "name": "ipython",
    "version": 3
   },
   "file_extension": ".py",
   "mimetype": "text/x-python",
   "name": "python",
   "nbconvert_exporter": "python",
   "pygments_lexer": "ipython3",
   "version": "3.8.10"
  },
  "orig_nbformat": 4,
  "vscode": {
   "interpreter": {
    "hash": "29aa37f2d695ad020160e8cf38bc34093f1d7aa011c4c5dbd66ab36cefa49a49"
   }
  }
 },
 "nbformat": 4,
 "nbformat_minor": 2
}
